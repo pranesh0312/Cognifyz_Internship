{
 "cells": [
  {
   "cell_type": "markdown",
   "id": "380c196e",
   "metadata": {},
   "source": [
    "# Importing libraries"
   ]
  },
  {
   "cell_type": "code",
   "execution_count": 83,
   "id": "9ed343cf",
   "metadata": {},
   "outputs": [],
   "source": [
    "import pandas as pd\n",
    "import numpy as np\n",
    "import matplotlib.pyplot as plt\n",
    "import seaborn as sns"
   ]
  },
  {
   "cell_type": "code",
   "execution_count": 84,
   "id": "72a2302c",
   "metadata": {},
   "outputs": [],
   "source": [
    "#To load the csv file\n",
    "df=pd.read_csv(\"Data_set.csv\")"
   ]
  },
  {
   "cell_type": "markdown",
   "id": "8428a7b0",
   "metadata": {},
   "source": [
    "# Task 5: Reasons for Investment"
   ]
  },
  {
   "cell_type": "markdown",
   "id": "d1cc0ff6",
   "metadata": {},
   "source": [
    "1)Explore Reasons Column: Investigate the column where participants provided reasons for their investment choices\n",
    "\n",
    "2)Summarize Reasons: Identify common themes or recurring reasons and provide a summary."
   ]
  },
  {
   "cell_type": "code",
   "execution_count": 85,
   "id": "02fe4d28",
   "metadata": {},
   "outputs": [
    {
     "data": {
      "text/html": [
       "<div>\n",
       "<style scoped>\n",
       "    .dataframe tbody tr th:only-of-type {\n",
       "        vertical-align: middle;\n",
       "    }\n",
       "\n",
       "    .dataframe tbody tr th {\n",
       "        vertical-align: top;\n",
       "    }\n",
       "\n",
       "    .dataframe thead th {\n",
       "        text-align: right;\n",
       "    }\n",
       "</style>\n",
       "<table border=\"1\" class=\"dataframe\">\n",
       "  <thead>\n",
       "    <tr style=\"text-align: right;\">\n",
       "      <th></th>\n",
       "      <th>gender</th>\n",
       "      <th>age</th>\n",
       "      <th>Investment_Avenues</th>\n",
       "      <th>Mutual_Funds</th>\n",
       "      <th>Equity_Market</th>\n",
       "      <th>Debentures</th>\n",
       "      <th>Government_Bonds</th>\n",
       "      <th>Fixed_Deposits</th>\n",
       "      <th>PPF</th>\n",
       "      <th>Gold</th>\n",
       "      <th>...</th>\n",
       "      <th>Duration</th>\n",
       "      <th>Invest_Monitor</th>\n",
       "      <th>Expect</th>\n",
       "      <th>Avenue</th>\n",
       "      <th>What are your savings objectives?</th>\n",
       "      <th>Reason_Equity</th>\n",
       "      <th>Reason_Mutual</th>\n",
       "      <th>Reason_Bonds</th>\n",
       "      <th>Reason_FD</th>\n",
       "      <th>Source</th>\n",
       "    </tr>\n",
       "  </thead>\n",
       "  <tbody>\n",
       "    <tr>\n",
       "      <th>36</th>\n",
       "      <td>Male</td>\n",
       "      <td>30</td>\n",
       "      <td>Yes</td>\n",
       "      <td>2</td>\n",
       "      <td>4</td>\n",
       "      <td>7</td>\n",
       "      <td>5</td>\n",
       "      <td>1</td>\n",
       "      <td>3</td>\n",
       "      <td>6</td>\n",
       "      <td>...</td>\n",
       "      <td>1-3 years</td>\n",
       "      <td>Monthly</td>\n",
       "      <td>20%-30%</td>\n",
       "      <td>Equity</td>\n",
       "      <td>Retirement Plan</td>\n",
       "      <td>Capital Appreciation</td>\n",
       "      <td>Better Returns</td>\n",
       "      <td>Assured Returns</td>\n",
       "      <td>Risk Free</td>\n",
       "      <td>Newspapers and Magazines</td>\n",
       "    </tr>\n",
       "    <tr>\n",
       "      <th>32</th>\n",
       "      <td>Male</td>\n",
       "      <td>27</td>\n",
       "      <td>Yes</td>\n",
       "      <td>2</td>\n",
       "      <td>4</td>\n",
       "      <td>7</td>\n",
       "      <td>5</td>\n",
       "      <td>1</td>\n",
       "      <td>3</td>\n",
       "      <td>6</td>\n",
       "      <td>...</td>\n",
       "      <td>3-5 years</td>\n",
       "      <td>Monthly</td>\n",
       "      <td>30%-40%</td>\n",
       "      <td>Equity</td>\n",
       "      <td>Health Care</td>\n",
       "      <td>Capital Appreciation</td>\n",
       "      <td>Fund Diversification</td>\n",
       "      <td>Assured Returns</td>\n",
       "      <td>Fixed Returns</td>\n",
       "      <td>Newspapers and Magazines</td>\n",
       "    </tr>\n",
       "    <tr>\n",
       "      <th>28</th>\n",
       "      <td>Male</td>\n",
       "      <td>29</td>\n",
       "      <td>Yes</td>\n",
       "      <td>2</td>\n",
       "      <td>3</td>\n",
       "      <td>6</td>\n",
       "      <td>5</td>\n",
       "      <td>1</td>\n",
       "      <td>4</td>\n",
       "      <td>7</td>\n",
       "      <td>...</td>\n",
       "      <td>1-3 years</td>\n",
       "      <td>Monthly</td>\n",
       "      <td>20%-30%</td>\n",
       "      <td>Equity</td>\n",
       "      <td>Retirement Plan</td>\n",
       "      <td>Capital Appreciation</td>\n",
       "      <td>Better Returns</td>\n",
       "      <td>Assured Returns</td>\n",
       "      <td>Risk Free</td>\n",
       "      <td>Television</td>\n",
       "    </tr>\n",
       "    <tr>\n",
       "      <th>29</th>\n",
       "      <td>Female</td>\n",
       "      <td>34</td>\n",
       "      <td>Yes</td>\n",
       "      <td>5</td>\n",
       "      <td>4</td>\n",
       "      <td>3</td>\n",
       "      <td>2</td>\n",
       "      <td>7</td>\n",
       "      <td>1</td>\n",
       "      <td>6</td>\n",
       "      <td>...</td>\n",
       "      <td>3-5 years</td>\n",
       "      <td>Monthly</td>\n",
       "      <td>10%-20%</td>\n",
       "      <td>Mutual Fund</td>\n",
       "      <td>Retirement Plan</td>\n",
       "      <td>Capital Appreciation</td>\n",
       "      <td>Tax Benefits</td>\n",
       "      <td>Safe Investment</td>\n",
       "      <td>Fixed Returns</td>\n",
       "      <td>Newspapers and Magazines</td>\n",
       "    </tr>\n",
       "    <tr>\n",
       "      <th>14</th>\n",
       "      <td>Female</td>\n",
       "      <td>25</td>\n",
       "      <td>Yes</td>\n",
       "      <td>2</td>\n",
       "      <td>3</td>\n",
       "      <td>7</td>\n",
       "      <td>5</td>\n",
       "      <td>4</td>\n",
       "      <td>1</td>\n",
       "      <td>6</td>\n",
       "      <td>...</td>\n",
       "      <td>1-3 years</td>\n",
       "      <td>Monthly</td>\n",
       "      <td>20%-30%</td>\n",
       "      <td>Fixed Deposits</td>\n",
       "      <td>Health Care</td>\n",
       "      <td>Dividend</td>\n",
       "      <td>Better Returns</td>\n",
       "      <td>Assured Returns</td>\n",
       "      <td>Risk Free</td>\n",
       "      <td>Financial Consultants</td>\n",
       "    </tr>\n",
       "  </tbody>\n",
       "</table>\n",
       "<p>5 rows × 24 columns</p>\n",
       "</div>"
      ],
      "text/plain": [
       "    gender  age Investment_Avenues  Mutual_Funds  Equity_Market  Debentures  \\\n",
       "36    Male   30                Yes             2              4           7   \n",
       "32    Male   27                Yes             2              4           7   \n",
       "28    Male   29                Yes             2              3           6   \n",
       "29  Female   34                Yes             5              4           3   \n",
       "14  Female   25                Yes             2              3           7   \n",
       "\n",
       "    Government_Bonds  Fixed_Deposits  PPF  Gold  ...   Duration  \\\n",
       "36                 5               1    3     6  ...  1-3 years   \n",
       "32                 5               1    3     6  ...  3-5 years   \n",
       "28                 5               1    4     7  ...  1-3 years   \n",
       "29                 2               7    1     6  ...  3-5 years   \n",
       "14                 5               4    1     6  ...  1-3 years   \n",
       "\n",
       "   Invest_Monitor   Expect          Avenue What are your savings objectives?  \\\n",
       "36        Monthly  20%-30%          Equity                   Retirement Plan   \n",
       "32        Monthly  30%-40%          Equity                       Health Care   \n",
       "28        Monthly  20%-30%          Equity                   Retirement Plan   \n",
       "29        Monthly  10%-20%     Mutual Fund                   Retirement Plan   \n",
       "14        Monthly  20%-30%  Fixed Deposits                       Health Care   \n",
       "\n",
       "           Reason_Equity         Reason_Mutual     Reason_Bonds  \\\n",
       "36  Capital Appreciation        Better Returns  Assured Returns   \n",
       "32  Capital Appreciation  Fund Diversification  Assured Returns   \n",
       "28  Capital Appreciation        Better Returns  Assured Returns   \n",
       "29  Capital Appreciation          Tax Benefits  Safe Investment   \n",
       "14              Dividend        Better Returns  Assured Returns   \n",
       "\n",
       "        Reason_FD                    Source  \n",
       "36      Risk Free  Newspapers and Magazines  \n",
       "32  Fixed Returns  Newspapers and Magazines  \n",
       "28      Risk Free                Television  \n",
       "29  Fixed Returns  Newspapers and Magazines  \n",
       "14      Risk Free     Financial Consultants  \n",
       "\n",
       "[5 rows x 24 columns]"
      ]
     },
     "execution_count": 85,
     "metadata": {},
     "output_type": "execute_result"
    }
   ],
   "source": [
    "#To view the 5 sample data\n",
    "df.sample(5)"
   ]
  },
  {
   "cell_type": "code",
   "execution_count": 86,
   "id": "5b1d3d2e",
   "metadata": {},
   "outputs": [
    {
     "data": {
      "text/html": [
       "<div>\n",
       "<style scoped>\n",
       "    .dataframe tbody tr th:only-of-type {\n",
       "        vertical-align: middle;\n",
       "    }\n",
       "\n",
       "    .dataframe tbody tr th {\n",
       "        vertical-align: top;\n",
       "    }\n",
       "\n",
       "    .dataframe thead th {\n",
       "        text-align: right;\n",
       "    }\n",
       "</style>\n",
       "<table border=\"1\" class=\"dataframe\">\n",
       "  <thead>\n",
       "    <tr style=\"text-align: right;\">\n",
       "      <th></th>\n",
       "      <th>Reason_Equity</th>\n",
       "      <th>Reason_Mutual</th>\n",
       "      <th>Reason_Bonds</th>\n",
       "      <th>Reason_FD</th>\n",
       "    </tr>\n",
       "  </thead>\n",
       "  <tbody>\n",
       "    <tr>\n",
       "      <th>0</th>\n",
       "      <td>Capital Appreciation</td>\n",
       "      <td>Better Returns</td>\n",
       "      <td>Safe Investment</td>\n",
       "      <td>Fixed Returns</td>\n",
       "    </tr>\n",
       "    <tr>\n",
       "      <th>1</th>\n",
       "      <td>Dividend</td>\n",
       "      <td>Better Returns</td>\n",
       "      <td>Safe Investment</td>\n",
       "      <td>High Interest Rates</td>\n",
       "    </tr>\n",
       "    <tr>\n",
       "      <th>2</th>\n",
       "      <td>Capital Appreciation</td>\n",
       "      <td>Tax Benefits</td>\n",
       "      <td>Assured Returns</td>\n",
       "      <td>Fixed Returns</td>\n",
       "    </tr>\n",
       "    <tr>\n",
       "      <th>3</th>\n",
       "      <td>Dividend</td>\n",
       "      <td>Fund Diversification</td>\n",
       "      <td>Tax Incentives</td>\n",
       "      <td>High Interest Rates</td>\n",
       "    </tr>\n",
       "    <tr>\n",
       "      <th>4</th>\n",
       "      <td>Capital Appreciation</td>\n",
       "      <td>Better Returns</td>\n",
       "      <td>Safe Investment</td>\n",
       "      <td>Risk Free</td>\n",
       "    </tr>\n",
       "  </tbody>\n",
       "</table>\n",
       "</div>"
      ],
      "text/plain": [
       "          Reason_Equity         Reason_Mutual     Reason_Bonds  \\\n",
       "0  Capital Appreciation        Better Returns  Safe Investment   \n",
       "1              Dividend        Better Returns  Safe Investment   \n",
       "2  Capital Appreciation          Tax Benefits  Assured Returns   \n",
       "3              Dividend  Fund Diversification   Tax Incentives   \n",
       "4  Capital Appreciation        Better Returns  Safe Investment   \n",
       "\n",
       "             Reason_FD  \n",
       "0        Fixed Returns  \n",
       "1  High Interest Rates  \n",
       "2        Fixed Returns  \n",
       "3  High Interest Rates  \n",
       "4            Risk Free  "
      ]
     },
     "execution_count": 86,
     "metadata": {},
     "output_type": "execute_result"
    }
   ],
   "source": [
    "#TO view the reason columns\n",
    "df_reason=df.iloc[:, [19,20,21,22,]]\n",
    "df_reason.head()"
   ]
  },
  {
   "cell_type": "code",
   "execution_count": 87,
   "id": "9b264d8f",
   "metadata": {},
   "outputs": [
    {
     "name": "stdout",
     "output_type": "stream",
     "text": [
      "<class 'pandas.core.frame.DataFrame'>\n",
      "RangeIndex: 40 entries, 0 to 39\n",
      "Data columns (total 4 columns):\n",
      " #   Column         Non-Null Count  Dtype \n",
      "---  ------         --------------  ----- \n",
      " 0   Reason_Equity  40 non-null     object\n",
      " 1   Reason_Mutual  40 non-null     object\n",
      " 2   Reason_Bonds   40 non-null     object\n",
      " 3   Reason_FD      40 non-null     object\n",
      "dtypes: object(4)\n",
      "memory usage: 1.4+ KB\n"
     ]
    }
   ],
   "source": [
    "#to view the info of all the reason columns\n",
    "df_reason.info()"
   ]
  },
  {
   "cell_type": "code",
   "execution_count": 88,
   "id": "7077fb6e",
   "metadata": {},
   "outputs": [
    {
     "data": {
      "text/plain": [
       "Reason_Equity    0\n",
       "Reason_Mutual    0\n",
       "Reason_Bonds     0\n",
       "Reason_FD        0\n",
       "dtype: int64"
      ]
     },
     "execution_count": 88,
     "metadata": {},
     "output_type": "execute_result"
    }
   ],
   "source": [
    "#To check any null values\n",
    "df_reason.isnull().sum()"
   ]
  },
  {
   "cell_type": "code",
   "execution_count": 89,
   "id": "be635d58",
   "metadata": {},
   "outputs": [
    {
     "data": {
      "text/html": [
       "<div>\n",
       "<style scoped>\n",
       "    .dataframe tbody tr th:only-of-type {\n",
       "        vertical-align: middle;\n",
       "    }\n",
       "\n",
       "    .dataframe tbody tr th {\n",
       "        vertical-align: top;\n",
       "    }\n",
       "\n",
       "    .dataframe thead th {\n",
       "        text-align: right;\n",
       "    }\n",
       "</style>\n",
       "<table border=\"1\" class=\"dataframe\">\n",
       "  <thead>\n",
       "    <tr style=\"text-align: right;\">\n",
       "      <th></th>\n",
       "      <th>count</th>\n",
       "      <th>unique</th>\n",
       "      <th>top</th>\n",
       "      <th>freq</th>\n",
       "    </tr>\n",
       "  </thead>\n",
       "  <tbody>\n",
       "    <tr>\n",
       "      <th>Reason_Equity</th>\n",
       "      <td>40</td>\n",
       "      <td>3</td>\n",
       "      <td>Capital Appreciation</td>\n",
       "      <td>30</td>\n",
       "    </tr>\n",
       "    <tr>\n",
       "      <th>Reason_Mutual</th>\n",
       "      <td>40</td>\n",
       "      <td>3</td>\n",
       "      <td>Better Returns</td>\n",
       "      <td>24</td>\n",
       "    </tr>\n",
       "    <tr>\n",
       "      <th>Reason_Bonds</th>\n",
       "      <td>40</td>\n",
       "      <td>3</td>\n",
       "      <td>Assured Returns</td>\n",
       "      <td>26</td>\n",
       "    </tr>\n",
       "    <tr>\n",
       "      <th>Reason_FD</th>\n",
       "      <td>40</td>\n",
       "      <td>3</td>\n",
       "      <td>Risk Free</td>\n",
       "      <td>19</td>\n",
       "    </tr>\n",
       "  </tbody>\n",
       "</table>\n",
       "</div>"
      ],
      "text/plain": [
       "              count unique                   top freq\n",
       "Reason_Equity    40      3  Capital Appreciation   30\n",
       "Reason_Mutual    40      3        Better Returns   24\n",
       "Reason_Bonds     40      3       Assured Returns   26\n",
       "Reason_FD        40      3             Risk Free   19"
      ]
     },
     "execution_count": 89,
     "metadata": {},
     "output_type": "execute_result"
    }
   ],
   "source": [
    "#To view the summary of the all the reason columns\n",
    "df_reason.describe().T"
   ]
  },
  {
   "cell_type": "code",
   "execution_count": 90,
   "id": "35769f1b",
   "metadata": {},
   "outputs": [
    {
     "data": {
      "text/html": [
       "<div>\n",
       "<style scoped>\n",
       "    .dataframe tbody tr th:only-of-type {\n",
       "        vertical-align: middle;\n",
       "    }\n",
       "\n",
       "    .dataframe tbody tr th {\n",
       "        vertical-align: top;\n",
       "    }\n",
       "\n",
       "    .dataframe thead th {\n",
       "        text-align: right;\n",
       "    }\n",
       "</style>\n",
       "<table border=\"1\" class=\"dataframe\">\n",
       "  <thead>\n",
       "    <tr style=\"text-align: right;\">\n",
       "      <th></th>\n",
       "      <th>Reason_Equity</th>\n",
       "      <th>count</th>\n",
       "    </tr>\n",
       "  </thead>\n",
       "  <tbody>\n",
       "    <tr>\n",
       "      <th>0</th>\n",
       "      <td>Capital Appreciation</td>\n",
       "      <td>30</td>\n",
       "    </tr>\n",
       "    <tr>\n",
       "      <th>1</th>\n",
       "      <td>Dividend</td>\n",
       "      <td>8</td>\n",
       "    </tr>\n",
       "    <tr>\n",
       "      <th>2</th>\n",
       "      <td>Liquidity</td>\n",
       "      <td>2</td>\n",
       "    </tr>\n",
       "  </tbody>\n",
       "</table>\n",
       "</div>"
      ],
      "text/plain": [
       "          Reason_Equity  count\n",
       "0  Capital Appreciation     30\n",
       "1              Dividend      8\n",
       "2             Liquidity      2"
      ]
     },
     "execution_count": 90,
     "metadata": {},
     "output_type": "execute_result"
    }
   ],
   "source": [
    "df_reason[\"Reason_Equity\"].value_counts().reset_index()"
   ]
  },
  {
   "cell_type": "code",
   "execution_count": 91,
   "id": "bdc10747",
   "metadata": {},
   "outputs": [
    {
     "data": {
      "text/html": [
       "<div>\n",
       "<style scoped>\n",
       "    .dataframe tbody tr th:only-of-type {\n",
       "        vertical-align: middle;\n",
       "    }\n",
       "\n",
       "    .dataframe tbody tr th {\n",
       "        vertical-align: top;\n",
       "    }\n",
       "\n",
       "    .dataframe thead th {\n",
       "        text-align: right;\n",
       "    }\n",
       "</style>\n",
       "<table border=\"1\" class=\"dataframe\">\n",
       "  <thead>\n",
       "    <tr style=\"text-align: right;\">\n",
       "      <th></th>\n",
       "      <th>Reason_Mutual</th>\n",
       "      <th>count</th>\n",
       "    </tr>\n",
       "  </thead>\n",
       "  <tbody>\n",
       "    <tr>\n",
       "      <th>0</th>\n",
       "      <td>Better Returns</td>\n",
       "      <td>24</td>\n",
       "    </tr>\n",
       "    <tr>\n",
       "      <th>1</th>\n",
       "      <td>Fund Diversification</td>\n",
       "      <td>13</td>\n",
       "    </tr>\n",
       "    <tr>\n",
       "      <th>2</th>\n",
       "      <td>Tax Benefits</td>\n",
       "      <td>3</td>\n",
       "    </tr>\n",
       "  </tbody>\n",
       "</table>\n",
       "</div>"
      ],
      "text/plain": [
       "          Reason_Mutual  count\n",
       "0        Better Returns     24\n",
       "1  Fund Diversification     13\n",
       "2          Tax Benefits      3"
      ]
     },
     "execution_count": 91,
     "metadata": {},
     "output_type": "execute_result"
    }
   ],
   "source": [
    "df_reason[\"Reason_Mutual\"].value_counts().reset_index()"
   ]
  },
  {
   "cell_type": "code",
   "execution_count": 92,
   "id": "c189b8f5",
   "metadata": {},
   "outputs": [
    {
     "data": {
      "text/html": [
       "<div>\n",
       "<style scoped>\n",
       "    .dataframe tbody tr th:only-of-type {\n",
       "        vertical-align: middle;\n",
       "    }\n",
       "\n",
       "    .dataframe tbody tr th {\n",
       "        vertical-align: top;\n",
       "    }\n",
       "\n",
       "    .dataframe thead th {\n",
       "        text-align: right;\n",
       "    }\n",
       "</style>\n",
       "<table border=\"1\" class=\"dataframe\">\n",
       "  <thead>\n",
       "    <tr style=\"text-align: right;\">\n",
       "      <th></th>\n",
       "      <th>Reason_Bonds</th>\n",
       "      <th>count</th>\n",
       "    </tr>\n",
       "  </thead>\n",
       "  <tbody>\n",
       "    <tr>\n",
       "      <th>0</th>\n",
       "      <td>Assured Returns</td>\n",
       "      <td>26</td>\n",
       "    </tr>\n",
       "    <tr>\n",
       "      <th>1</th>\n",
       "      <td>Safe Investment</td>\n",
       "      <td>13</td>\n",
       "    </tr>\n",
       "    <tr>\n",
       "      <th>2</th>\n",
       "      <td>Tax Incentives</td>\n",
       "      <td>1</td>\n",
       "    </tr>\n",
       "  </tbody>\n",
       "</table>\n",
       "</div>"
      ],
      "text/plain": [
       "      Reason_Bonds  count\n",
       "0  Assured Returns     26\n",
       "1  Safe Investment     13\n",
       "2   Tax Incentives      1"
      ]
     },
     "execution_count": 92,
     "metadata": {},
     "output_type": "execute_result"
    }
   ],
   "source": [
    "df_reason[\"Reason_Bonds\"].value_counts().reset_index()"
   ]
  },
  {
   "cell_type": "code",
   "execution_count": 93,
   "id": "ae18005c",
   "metadata": {},
   "outputs": [
    {
     "data": {
      "text/html": [
       "<div>\n",
       "<style scoped>\n",
       "    .dataframe tbody tr th:only-of-type {\n",
       "        vertical-align: middle;\n",
       "    }\n",
       "\n",
       "    .dataframe tbody tr th {\n",
       "        vertical-align: top;\n",
       "    }\n",
       "\n",
       "    .dataframe thead th {\n",
       "        text-align: right;\n",
       "    }\n",
       "</style>\n",
       "<table border=\"1\" class=\"dataframe\">\n",
       "  <thead>\n",
       "    <tr style=\"text-align: right;\">\n",
       "      <th></th>\n",
       "      <th>Reason_FD</th>\n",
       "      <th>count</th>\n",
       "    </tr>\n",
       "  </thead>\n",
       "  <tbody>\n",
       "    <tr>\n",
       "      <th>0</th>\n",
       "      <td>Risk Free</td>\n",
       "      <td>19</td>\n",
       "    </tr>\n",
       "    <tr>\n",
       "      <th>1</th>\n",
       "      <td>Fixed Returns</td>\n",
       "      <td>18</td>\n",
       "    </tr>\n",
       "    <tr>\n",
       "      <th>2</th>\n",
       "      <td>High Interest Rates</td>\n",
       "      <td>3</td>\n",
       "    </tr>\n",
       "  </tbody>\n",
       "</table>\n",
       "</div>"
      ],
      "text/plain": [
       "             Reason_FD  count\n",
       "0            Risk Free     19\n",
       "1        Fixed Returns     18\n",
       "2  High Interest Rates      3"
      ]
     },
     "execution_count": 93,
     "metadata": {},
     "output_type": "execute_result"
    }
   ],
   "source": [
    "df_reason[\"Reason_FD\"].value_counts().reset_index()"
   ]
  },
  {
   "cell_type": "code",
   "execution_count": 94,
   "id": "5763d60c",
   "metadata": {},
   "outputs": [
    {
     "data": {
      "image/png": "[encoded data removed]",
      "text/plain": [
       "<Figure size 640x480 with 1 Axes>"
      ]
     },
     "metadata": {},
     "output_type": "display_data"
    }
   ],
   "source": [
    "#To plot bar plot\n",
    "ax=df_reason['Reason_Equity'].value_counts().plot.bar()\n",
    "for i in ax.containers:\n",
    "    ax.bar_label(i,)\n",
    "plt.title(\"Reason_Equity\")\n",
    "plt.ylabel(\"Value_count\")\n",
    "plt.show()"
   ]
  },
  {
   "cell_type": "code",
   "execution_count": 95,
   "id": "99787b3e",
   "metadata": {},
   "outputs": [
    {
     "data": {
      "image/png": "[encoded data removed]",
      "text/plain": [
       "<Figure size 640x480 with 1 Axes>"
      ]
     },
     "metadata": {},
     "output_type": "display_data"
    }
   ],
   "source": [
    "#To plot the countplot \n",
    "bx=sns.countplot(x=\"Reason_Mutual\", data=df_reason)\n",
    "for i in bx.containers:\n",
    "    bx.bar_label(i,)\n",
    "plt.title(\"Reason_Mutual\")\n",
    "plt.show()"
   ]
  },
  {
   "cell_type": "code",
   "execution_count": 96,
   "id": "3d94c51f",
   "metadata": {},
   "outputs": [
    {
     "data": {
      "image/png": "[encoded data removed]",
      "text/plain": [
       "<Figure size 640x480 with 1 Axes>"
      ]
     },
     "metadata": {},
     "output_type": "display_data"
    }
   ],
   "source": [
    "#To plot bar plot\n",
    "cx=df_reason['Reason_Bonds'].value_counts().sort_values(ascending=True).plot(kind='barh')\n",
    "for i in cx.containers:\n",
    "    cx.bar_label(i,)\n",
    "plt.title(\"Reason_Bonds\")\n",
    "plt.show()"
   ]
  },
  {
   "cell_type": "code",
   "execution_count": 97,
   "id": "e0013125",
   "metadata": {},
   "outputs": [
    {
     "data": {
      "image/png": "[encoded data removed]",
      "text/plain": [
       "<Figure size 640x480 with 1 Axes>"
      ]
     },
     "metadata": {},
     "output_type": "display_data"
    }
   ],
   "source": [
    "#To plot pie chart\n",
    "reason_distribution= df_reason['Reason_FD'].value_counts()\n",
    "plt.pie(reason_distribution, labels=reason_distribution.index, autopct='%1.1f%%', startangle=90)\n",
    "plt.title('Reason_FD')\n",
    "plt.show()"
   ]
  },
  {
   "cell_type": "markdown",
   "id": "5583d32a",
   "metadata": {},
   "source": [
    "Analysing Summary:\n",
    "\n",
    "1)From the info,it describes that all the Reason columns are in object datatype and also it has no null values\n",
    "\n",
    "2)From the summary,it describes that:\n",
    "\n",
    "        a)There are 40 rows in all the Reason columns\n",
    "  \n",
    "        b)There are 3 unique values in All the Reason columns\n",
    "  \n",
    "           ->Reason_Equity-Capital Appreciation,Dividend and Liquidity\n",
    "           \n",
    "          ->Reason_Mutual-Better Returns,TaxBenefits and FundDiversification\n",
    "           \n",
    "           ->Reason_Bonds-Safe Investment,Assured Returns and Tax Incentives\n",
    "           \n",
    "           ->Reason_FD-'Fixed Returns,High Interest Rates and Risk Free\n",
    "           \n",
    "3)Each Reason columns are representes graphically using bar or count plot or pie chart"
   ]
  },
  {
   "cell_type": "markdown",
   "id": "6e418ff2",
   "metadata": {},
   "source": []
  },
  {
   "cell_type": "markdown",
   "id": "5fabb4cf",
   "metadata": {},
   "source": [
    "# Task 6: Savings Objectives"
   ]
  },
  {
   "cell_type": "markdown",
   "id": "f992b20f",
   "metadata": {},
   "source": [
    "1)Analyze Savings Objectives: Examine the column containing information about participants' savings objectives.\n",
    "\n",
    "2)List and Describe Objectives: Create a list and describe the main savings objectives mentioned by participants."
   ]
  },
  {
   "cell_type": "code",
   "execution_count": 98,
   "id": "8ede77ee",
   "metadata": {},
   "outputs": [
    {
     "data": {
      "text/html": [
       "<div>\n",
       "<style scoped>\n",
       "    .dataframe tbody tr th:only-of-type {\n",
       "        vertical-align: middle;\n",
       "    }\n",
       "\n",
       "    .dataframe tbody tr th {\n",
       "        vertical-align: top;\n",
       "    }\n",
       "\n",
       "    .dataframe thead th {\n",
       "        text-align: right;\n",
       "    }\n",
       "</style>\n",
       "<table border=\"1\" class=\"dataframe\">\n",
       "  <thead>\n",
       "    <tr style=\"text-align: right;\">\n",
       "      <th></th>\n",
       "      <th>gender</th>\n",
       "      <th>age</th>\n",
       "      <th>Investment_Avenues</th>\n",
       "      <th>Mutual_Funds</th>\n",
       "      <th>Equity_Market</th>\n",
       "      <th>Debentures</th>\n",
       "      <th>Government_Bonds</th>\n",
       "      <th>Fixed_Deposits</th>\n",
       "      <th>PPF</th>\n",
       "      <th>Gold</th>\n",
       "      <th>...</th>\n",
       "      <th>Duration</th>\n",
       "      <th>Invest_Monitor</th>\n",
       "      <th>Expect</th>\n",
       "      <th>Avenue</th>\n",
       "      <th>What are your savings objectives?</th>\n",
       "      <th>Reason_Equity</th>\n",
       "      <th>Reason_Mutual</th>\n",
       "      <th>Reason_Bonds</th>\n",
       "      <th>Reason_FD</th>\n",
       "      <th>Source</th>\n",
       "    </tr>\n",
       "  </thead>\n",
       "  <tbody>\n",
       "    <tr>\n",
       "      <th>34</th>\n",
       "      <td>Male</td>\n",
       "      <td>27</td>\n",
       "      <td>Yes</td>\n",
       "      <td>2</td>\n",
       "      <td>3</td>\n",
       "      <td>6</td>\n",
       "      <td>5</td>\n",
       "      <td>4</td>\n",
       "      <td>1</td>\n",
       "      <td>7</td>\n",
       "      <td>...</td>\n",
       "      <td>1-3 years</td>\n",
       "      <td>Weekly</td>\n",
       "      <td>20%-30%</td>\n",
       "      <td>Mutual Fund</td>\n",
       "      <td>Health Care</td>\n",
       "      <td>Capital Appreciation</td>\n",
       "      <td>Better Returns</td>\n",
       "      <td>Safe Investment</td>\n",
       "      <td>Fixed Returns</td>\n",
       "      <td>Financial Consultants</td>\n",
       "    </tr>\n",
       "    <tr>\n",
       "      <th>26</th>\n",
       "      <td>Male</td>\n",
       "      <td>26</td>\n",
       "      <td>Yes</td>\n",
       "      <td>3</td>\n",
       "      <td>4</td>\n",
       "      <td>6</td>\n",
       "      <td>5</td>\n",
       "      <td>1</td>\n",
       "      <td>2</td>\n",
       "      <td>7</td>\n",
       "      <td>...</td>\n",
       "      <td>3-5 years</td>\n",
       "      <td>Monthly</td>\n",
       "      <td>20%-30%</td>\n",
       "      <td>Mutual Fund</td>\n",
       "      <td>Retirement Plan</td>\n",
       "      <td>Dividend</td>\n",
       "      <td>Fund Diversification</td>\n",
       "      <td>Assured Returns</td>\n",
       "      <td>Fixed Returns</td>\n",
       "      <td>Financial Consultants</td>\n",
       "    </tr>\n",
       "    <tr>\n",
       "      <th>17</th>\n",
       "      <td>Male</td>\n",
       "      <td>27</td>\n",
       "      <td>Yes</td>\n",
       "      <td>3</td>\n",
       "      <td>2</td>\n",
       "      <td>7</td>\n",
       "      <td>4</td>\n",
       "      <td>5</td>\n",
       "      <td>1</td>\n",
       "      <td>6</td>\n",
       "      <td>...</td>\n",
       "      <td>1-3 years</td>\n",
       "      <td>Monthly</td>\n",
       "      <td>20%-30%</td>\n",
       "      <td>Mutual Fund</td>\n",
       "      <td>Retirement Plan</td>\n",
       "      <td>Capital Appreciation</td>\n",
       "      <td>Better Returns</td>\n",
       "      <td>Assured Returns</td>\n",
       "      <td>Risk Free</td>\n",
       "      <td>Financial Consultants</td>\n",
       "    </tr>\n",
       "  </tbody>\n",
       "</table>\n",
       "<p>3 rows × 24 columns</p>\n",
       "</div>"
      ],
      "text/plain": [
       "   gender  age Investment_Avenues  Mutual_Funds  Equity_Market  Debentures  \\\n",
       "34   Male   27                Yes             2              3           6   \n",
       "26   Male   26                Yes             3              4           6   \n",
       "17   Male   27                Yes             3              2           7   \n",
       "\n",
       "    Government_Bonds  Fixed_Deposits  PPF  Gold  ...   Duration  \\\n",
       "34                 5               4    1     7  ...  1-3 years   \n",
       "26                 5               1    2     7  ...  3-5 years   \n",
       "17                 4               5    1     6  ...  1-3 years   \n",
       "\n",
       "   Invest_Monitor   Expect       Avenue What are your savings objectives?  \\\n",
       "34         Weekly  20%-30%  Mutual Fund                       Health Care   \n",
       "26        Monthly  20%-30%  Mutual Fund                   Retirement Plan   \n",
       "17        Monthly  20%-30%  Mutual Fund                   Retirement Plan   \n",
       "\n",
       "           Reason_Equity         Reason_Mutual     Reason_Bonds  \\\n",
       "34  Capital Appreciation        Better Returns  Safe Investment   \n",
       "26              Dividend  Fund Diversification  Assured Returns   \n",
       "17  Capital Appreciation        Better Returns  Assured Returns   \n",
       "\n",
       "        Reason_FD                 Source  \n",
       "34  Fixed Returns  Financial Consultants  \n",
       "26  Fixed Returns  Financial Consultants  \n",
       "17      Risk Free  Financial Consultants  \n",
       "\n",
       "[3 rows x 24 columns]"
      ]
     },
     "execution_count": 98,
     "metadata": {},
     "output_type": "execute_result"
    }
   ],
   "source": [
    "#To view the 5 sample data\n",
    "df.sample(3)"
   ]
  },
  {
   "cell_type": "code",
   "execution_count": 99,
   "id": "5e893c12",
   "metadata": {},
   "outputs": [
    {
     "data": {
      "text/plain": [
       "0     Retirement Plan\n",
       "1         Health Care\n",
       "2     Retirement Plan\n",
       "3     Retirement Plan\n",
       "4     Retirement Plan\n",
       "5     Retirement Plan\n",
       "6     Retirement Plan\n",
       "7     Retirement Plan\n",
       "8     Retirement Plan\n",
       "9     Retirement Plan\n",
       "10    Retirement Plan\n",
       "11    Retirement Plan\n",
       "12          Education\n",
       "13    Retirement Plan\n",
       "14        Health Care\n",
       "15        Health Care\n",
       "16        Health Care\n",
       "17    Retirement Plan\n",
       "18    Retirement Plan\n",
       "19        Health Care\n",
       "20    Retirement Plan\n",
       "21        Health Care\n",
       "22    Retirement Plan\n",
       "23        Health Care\n",
       "24    Retirement Plan\n",
       "25    Retirement Plan\n",
       "26    Retirement Plan\n",
       "27        Health Care\n",
       "28    Retirement Plan\n",
       "29    Retirement Plan\n",
       "30          Education\n",
       "31    Retirement Plan\n",
       "32        Health Care\n",
       "33          Education\n",
       "34        Health Care\n",
       "35        Health Care\n",
       "36    Retirement Plan\n",
       "37        Health Care\n",
       "38        Health Care\n",
       "39    Retirement Plan\n",
       "Name: What are your savings objectives?, dtype: object"
      ]
     },
     "execution_count": 99,
     "metadata": {},
     "output_type": "execute_result"
    }
   ],
   "source": [
    "#To view the What are your savings objectives? column\n",
    "df[\"What are your savings objectives?\"]"
   ]
  },
  {
   "cell_type": "code",
   "execution_count": 100,
   "id": "bd51cc22",
   "metadata": {},
   "outputs": [
    {
     "name": "stdout",
     "output_type": "stream",
     "text": [
      "<class 'pandas.core.series.Series'>\n",
      "RangeIndex: 40 entries, 0 to 39\n",
      "Series name: What are your savings objectives?\n",
      "Non-Null Count  Dtype \n",
      "--------------  ----- \n",
      "40 non-null     object\n",
      "dtypes: object(1)\n",
      "memory usage: 452.0+ bytes\n"
     ]
    }
   ],
   "source": [
    "#to view the info of the savings objectives column\n",
    "df[\"What are your savings objectives?\"].info()"
   ]
  },
  {
   "cell_type": "code",
   "execution_count": 101,
   "id": "6c8f02ed",
   "metadata": {},
   "outputs": [
    {
     "data": {
      "text/plain": [
       "0"
      ]
     },
     "execution_count": 101,
     "metadata": {},
     "output_type": "execute_result"
    }
   ],
   "source": [
    "#To check any null values\n",
    "df[\"What are your savings objectives?\"].isnull().sum()"
   ]
  },
  {
   "cell_type": "code",
   "execution_count": 102,
   "id": "7d4df689",
   "metadata": {},
   "outputs": [
    {
     "data": {
      "text/plain": [
       "count                  40\n",
       "unique                  3\n",
       "top       Retirement Plan\n",
       "freq                   24\n",
       "Name: What are your savings objectives?, dtype: object"
      ]
     },
     "execution_count": 102,
     "metadata": {},
     "output_type": "execute_result"
    }
   ],
   "source": [
    "#To view the summary of savings objectives column\n",
    "df[\"What are your savings objectives?\"].describe()"
   ]
  },
  {
   "cell_type": "code",
   "execution_count": 103,
   "id": "30a46fc1",
   "metadata": {},
   "outputs": [
    {
     "data": {
      "text/plain": [
       "array(['Retirement Plan', 'Health Care', 'Education'], dtype=object)"
      ]
     },
     "execution_count": 103,
     "metadata": {},
     "output_type": "execute_result"
    }
   ],
   "source": [
    "#To view the unique values in the column\n",
    "df[\"What are your savings objectives?\"].unique()"
   ]
  },
  {
   "cell_type": "code",
   "execution_count": 104,
   "id": "2123fe21",
   "metadata": {},
   "outputs": [
    {
     "data": {
      "text/plain": [
       "What are your savings objectives?\n",
       "Retirement Plan    24\n",
       "Health Care        13\n",
       "Education           3\n",
       "Name: count, dtype: int64"
      ]
     },
     "execution_count": 104,
     "metadata": {},
     "output_type": "execute_result"
    }
   ],
   "source": [
    "#To view the indivitual values counts in the column\n",
    "df[\"What are your savings objectives?\"].value_counts()"
   ]
  },
  {
   "cell_type": "code",
   "execution_count": 105,
   "id": "a1d18854",
   "metadata": {},
   "outputs": [
    {
     "data": {
      "image/png": "[encoded data removed]",
      "text/plain": [
       "<Figure size 640x480 with 1 Axes>"
      ]
     },
     "metadata": {},
     "output_type": "display_data"
    }
   ],
   "source": [
    "#To plot the countplot for the graphical representation of the column\n",
    "x=sns.countplot(x=\"What are your savings objectives?\", data=df)\n",
    "for i in x.containers:\n",
    "    x.bar_label(i,)\n",
    "plt.title(\"savings objectives\")\n",
    "plt.show()"
   ]
  },
  {
   "cell_type": "code",
   "execution_count": 106,
   "id": "3cfdf161",
   "metadata": {},
   "outputs": [
    {
     "data": {
      "image/png": "[encoded data removed]",
      "text/plain": [
       "<Figure size 640x480 with 1 Axes>"
      ]
     },
     "metadata": {},
     "output_type": "display_data"
    }
   ],
   "source": [
    "#To plot the pie chart\n",
    "Savings_distribution= df['What are your savings objectives?'].value_counts()\n",
    "plt.pie(Savings_distribution, labels=Savings_distribution.index, autopct='%1.1f%%', startangle=90)\n",
    "plt.title('Savings Objectives')\n",
    "plt.show()"
   ]
  },
  {
   "cell_type": "code",
   "execution_count": 107,
   "id": "83fba3c9",
   "metadata": {},
   "outputs": [
    {
     "data": {
      "text/plain": [
       "['Retirement Plan', 'Health Care', 'Education']"
      ]
     },
     "execution_count": 107,
     "metadata": {},
     "output_type": "execute_result"
    }
   ],
   "source": [
    "#Converting the column values to list\n",
    "objective_list = df['What are your savings objectives?'].unique().tolist()\n",
    "objective_list"
   ]
  },
  {
   "cell_type": "code",
   "execution_count": 108,
   "id": "06214175",
   "metadata": {},
   "outputs": [
    {
     "data": {
      "text/plain": [
       "['Old Age', 'Insurance and Medical', 'School and College Students']"
      ]
     },
     "execution_count": 108,
     "metadata": {},
     "output_type": "execute_result"
    }
   ],
   "source": [
    "Obj_describtion=['Old Age','Insurance and Medical','School and College Students']\n",
    "Obj_describtion"
   ]
  },
  {
   "cell_type": "code",
   "execution_count": 109,
   "id": "3988ec8b",
   "metadata": {},
   "outputs": [],
   "source": [
    "Main_obj_des={i:j for i,j in zip(objective_list,Obj_describtion)}"
   ]
  },
  {
   "cell_type": "code",
   "execution_count": 110,
   "id": "b8debc67",
   "metadata": {},
   "outputs": [
    {
     "data": {
      "text/plain": [
       "{'Retirement Plan': 'Old Age',\n",
       " 'Health Care': 'Insurance and Medical',\n",
       " 'Education': 'School and College Students'}"
      ]
     },
     "execution_count": 110,
     "metadata": {},
     "output_type": "execute_result"
    }
   ],
   "source": [
    "#Final Objectives and their respective summary\n",
    "Main_obj_des"
   ]
  },
  {
   "cell_type": "markdown",
   "id": "b1d1e0cd",
   "metadata": {},
   "source": [
    "Analysing Summary:\n",
    "\n",
    "1)From the info,it describes that the Saving objective column is in object datatype and also it has no null values\n",
    "\n",
    "2)From the summary,it describes that:\n",
    "\n",
    "       a)There are 40 rows in the column\n",
    "  \n",
    "       b)There are 3 unique values in the column\n",
    "  \n",
    "           ->Retirement Plan\n",
    "           ->Health Care\n",
    "           ->Education\n",
    "           \n",
    "       c)The most common repeated value is Retirement Plan\n",
    "  \n",
    "3)From the value counts it shows that the Retirement Plan has the highest number of count and Education has the lowest number of count\n",
    "\n",
    "4)The above summary is represented graphically using countplot and Pie chart"
   ]
  }
 ],
 "metadata": {
  "kernelspec": {
   "display_name": "Python 3 (ipykernel)",
   "language": "python",
   "name": "python3"
  },
  "language_info": {
   "codemirror_mode": {
    "name": "ipython",
    "version": 3
   },
   "file_extension": ".py",
   "mimetype": "text/x-python",
   "name": "python",
   "nbconvert_exporter": "python",
   "pygments_lexer": "ipython3",
   "version": "3.11.5"
  }
 },
 "nbformat": 4,
 "nbformat_minor": 5
}
